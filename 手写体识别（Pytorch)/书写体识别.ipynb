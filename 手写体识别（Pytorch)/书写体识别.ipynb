{
 "cells": [
  {
   "cell_type": "code",
   "execution_count": 1,
   "id": "328859f2",
   "metadata": {},
   "outputs": [],
   "source": [
    "import torch\n",
    "import torchvision\n",
    "import torchvision.transforms as transforms"
   ]
  },
  {
   "cell_type": "code",
   "execution_count": 2,
   "id": "71653dea",
   "metadata": {},
   "outputs": [],
   "source": [
    "n_epochs = 5 # 模型训练5轮\n",
    "log_interval = 30 #控制打印频率的，设n = 30*batch_size，即n张图后打印一次进度\n",
    "DEVICE = torch.device(\"cuda\" if torch.cuda.is_available() else \"cpu\") # 根据设备是否支持GPU来选择硬件 \n",
    "size = 32 # 对输入图片进行处理，拉伸为32*32的图片，这是为了复刻手写数字识别的神经网络，其输入为32*32的灰度图像\n",
    "learn_rate = 0.03 # 学习率\n",
    "momentum = 0.1  # 动量"
   ]
  },
  {
   "cell_type": "code",
   "execution_count": 3,
   "id": "b7baccec",
   "metadata": {},
   "outputs": [
    {
     "name": "stderr",
     "output_type": "stream",
     "text": [
      "'wget' 不是内部或外部命令，也不是可运行的程序\n",
      "或批处理文件。\n",
      "tar: Error opening archive: Failed to open 'MNIST.tar.gz'\n"
     ]
    },
    {
     "name": "stdout",
     "output_type": "stream",
     "text": [
      "Downloading http://yann.lecun.com/exdb/mnist/train-images-idx3-ubyte.gz\n",
      "Downloading http://yann.lecun.com/exdb/mnist/train-images-idx3-ubyte.gz to ./MNIST\\raw\\train-images-idx3-ubyte.gz\n"
     ]
    },
    {
     "data": {
      "application/vnd.jupyter.widget-view+json": {
       "model_id": "d463e99ca66d48ef89533bea5d860b85",
       "version_major": 2,
       "version_minor": 0
      },
      "text/plain": [
       "  0%|          | 0/9912422 [00:00<?, ?it/s]"
      ]
     },
     "metadata": {},
     "output_type": "display_data"
    },
    {
     "name": "stdout",
     "output_type": "stream",
     "text": [
      "Extracting ./MNIST\\raw\\train-images-idx3-ubyte.gz to ./MNIST\\raw\n",
      "\n",
      "Downloading http://yann.lecun.com/exdb/mnist/train-labels-idx1-ubyte.gz\n",
      "Downloading http://yann.lecun.com/exdb/mnist/train-labels-idx1-ubyte.gz to ./MNIST\\raw\\train-labels-idx1-ubyte.gz\n"
     ]
    },
    {
     "data": {
      "application/vnd.jupyter.widget-view+json": {
       "model_id": "55c4c5b9f73149de8e37f90fcecebff9",
       "version_major": 2,
       "version_minor": 0
      },
      "text/plain": [
       "  0%|          | 0/28881 [00:00<?, ?it/s]"
      ]
     },
     "metadata": {},
     "output_type": "display_data"
    },
    {
     "name": "stdout",
     "output_type": "stream",
     "text": [
      "Extracting ./MNIST\\raw\\train-labels-idx1-ubyte.gz to ./MNIST\\raw\n",
      "\n",
      "Downloading http://yann.lecun.com/exdb/mnist/t10k-images-idx3-ubyte.gz\n",
      "Downloading http://yann.lecun.com/exdb/mnist/t10k-images-idx3-ubyte.gz to ./MNIST\\raw\\t10k-images-idx3-ubyte.gz\n"
     ]
    },
    {
     "data": {
      "application/vnd.jupyter.widget-view+json": {
       "model_id": "5e94a02c822f41aeaa3752d8f6a736e0",
       "version_major": 2,
       "version_minor": 0
      },
      "text/plain": [
       "  0%|          | 0/1648877 [00:00<?, ?it/s]"
      ]
     },
     "metadata": {},
     "output_type": "display_data"
    },
    {
     "name": "stdout",
     "output_type": "stream",
     "text": [
      "Extracting ./MNIST\\raw\\t10k-images-idx3-ubyte.gz to ./MNIST\\raw\n",
      "\n",
      "Downloading http://yann.lecun.com/exdb/mnist/t10k-labels-idx1-ubyte.gz\n",
      "Downloading http://yann.lecun.com/exdb/mnist/t10k-labels-idx1-ubyte.gz to ./MNIST\\raw\\t10k-labels-idx1-ubyte.gz\n"
     ]
    },
    {
     "data": {
      "application/vnd.jupyter.widget-view+json": {
       "model_id": "f253bab1fcca45b394eee0690405a3c7",
       "version_major": 2,
       "version_minor": 0
      },
      "text/plain": [
       "  0%|          | 0/4542 [00:00<?, ?it/s]"
      ]
     },
     "metadata": {},
     "output_type": "display_data"
    },
    {
     "name": "stdout",
     "output_type": "stream",
     "text": [
      "Extracting ./MNIST\\raw\\t10k-labels-idx1-ubyte.gz to ./MNIST\\raw\n",
      "\n"
     ]
    }
   ],
   "source": [
    "!wget www.di.ens.fr/~lelarge/MNIST.tar.gz\n",
    "!tar -zxvf MNIST.tar.gz\n",
    "from torchvision.datasets import MNIST\n",
    "transform = transforms.Compose(\n",
    "    [ transforms.Resize(size), transforms.ToTensor(),\n",
    "     transforms.Normalize((0.5), (0.5))]) # 正则化处理，相当于z-score\n",
    "trainset = MNIST(root = './', train=True, download=True, transform=transform)\n",
    "trainloader = torch.utils.data.DataLoader(trainset, batch_size=64, shuffle=True, num_workers=2)\n",
    "testset = MNIST(root = './', train=False, download=True, transform=transform)\n",
    "testloader = torch.utils.data.DataLoader(testset, batch_size=1000, shuffle=True, num_workers=2)\n",
    "\n",
    "# classes = ('1', '2', '3', '4', '5', '6', '7', '8', '9', '0')"
   ]
  },
  {
   "cell_type": "code",
   "execution_count": 4,
   "id": "9e30b816",
   "metadata": {},
   "outputs": [
    {
     "name": "stdout",
     "output_type": "stream",
     "text": [
      "tensor([1, 1, 2, 1, 6, 8, 5, 7, 2, 5, 2, 2, 5, 5, 5, 8, 8, 6, 7, 4, 3, 5, 5, 4,\n",
      "        5, 6, 5, 6, 1, 3, 3, 1, 5, 8, 8, 1, 1, 4, 5, 0, 7, 2, 4, 4, 4, 0, 5, 0,\n",
      "        8, 4, 3, 3, 8, 5, 7, 6, 6, 1, 3, 6, 6, 1, 0, 6, 7, 1, 2, 5, 6, 5, 4, 8,\n",
      "        8, 5, 4, 9, 1, 3, 2, 2, 0, 8, 5, 6, 9, 6, 8, 1, 3, 5, 0, 0, 1, 1, 2, 3,\n",
      "        4, 1, 6, 2, 6, 0, 6, 4, 7, 5, 9, 0, 0, 1, 8, 1, 7, 5, 3, 1, 9, 4, 4, 8,\n",
      "        1, 3, 3, 7, 8, 6, 6, 9, 9, 1, 1, 3, 5, 4, 3, 6, 9, 7, 8, 9, 5, 4, 3, 0,\n",
      "        8, 3, 9, 9, 7, 7, 0, 4, 1, 0, 7, 1, 4, 6, 8, 6, 9, 2, 0, 4, 5, 1, 1, 4,\n",
      "        8, 1, 1, 2, 7, 0, 6, 0, 4, 2, 7, 7, 6, 4, 7, 1, 5, 0, 2, 8, 5, 7, 1, 4,\n",
      "        6, 5, 5, 8, 7, 6, 1, 9, 6, 7, 9, 9, 2, 1, 2, 5, 7, 7, 2, 2, 8, 5, 8, 3,\n",
      "        5, 1, 5, 1, 9, 6, 0, 7, 2, 6, 5, 3, 4, 8, 3, 7, 3, 6, 9, 4, 7, 0, 0, 9,\n",
      "        2, 8, 7, 7, 8, 4, 3, 0, 6, 1, 7, 0, 1, 2, 2, 1, 1, 9, 7, 4, 3, 4, 0, 6,\n",
      "        7, 3, 5, 2, 1, 9, 7, 9, 3, 4, 3, 8, 9, 6, 7, 5, 9, 6, 9, 8, 3, 0, 7, 3,\n",
      "        5, 1, 0, 7, 1, 1, 9, 6, 3, 7, 8, 4, 4, 3, 4, 2, 2, 7, 3, 2, 5, 3, 2, 4,\n",
      "        8, 4, 9, 0, 0, 2, 8, 7, 1, 4, 1, 6, 8, 7, 6, 9, 3, 2, 2, 1, 4, 5, 9, 5,\n",
      "        8, 2, 2, 1, 5, 6, 3, 8, 8, 4, 5, 4, 0, 9, 0, 8, 3, 2, 9, 5, 1, 5, 2, 9,\n",
      "        4, 6, 2, 7, 3, 4, 0, 4, 0, 5, 9, 3, 6, 9, 5, 1, 3, 5, 6, 2, 9, 9, 1, 2,\n",
      "        5, 0, 7, 4, 9, 4, 9, 5, 0, 2, 6, 0, 5, 5, 7, 5, 8, 7, 6, 5, 6, 7, 2, 1,\n",
      "        8, 6, 2, 6, 4, 8, 8, 0, 6, 5, 9, 7, 0, 4, 0, 4, 6, 9, 9, 8, 9, 4, 1, 4,\n",
      "        8, 9, 8, 9, 0, 7, 7, 3, 4, 3, 2, 1, 1, 9, 0, 2, 1, 5, 9, 8, 1, 4, 1, 7,\n",
      "        5, 2, 2, 4, 6, 6, 8, 4, 7, 4, 5, 2, 7, 3, 8, 8, 7, 7, 9, 1, 6, 5, 0, 2,\n",
      "        5, 8, 7, 6, 1, 9, 1, 8, 7, 1, 7, 4, 8, 8, 2, 9, 3, 0, 3, 2, 4, 4, 8, 0,\n",
      "        8, 3, 7, 4, 3, 2, 0, 9, 3, 9, 6, 3, 1, 8, 2, 2, 9, 0, 9, 7, 5, 1, 2, 2,\n",
      "        9, 0, 4, 8, 8, 4, 2, 1, 2, 4, 9, 1, 0, 8, 8, 9, 1, 4, 3, 0, 5, 9, 0, 3,\n",
      "        2, 4, 2, 9, 1, 4, 6, 0, 1, 2, 8, 4, 0, 1, 5, 8, 4, 4, 0, 7, 8, 6, 0, 0,\n",
      "        2, 8, 9, 6, 8, 2, 7, 2, 9, 2, 9, 2, 4, 7, 8, 6, 0, 6, 1, 5, 9, 0, 0, 0,\n",
      "        6, 4, 5, 2, 3, 6, 9, 2, 8, 9, 1, 6, 0, 1, 2, 3, 8, 7, 5, 0, 9, 0, 6, 9,\n",
      "        3, 4, 8, 2, 9, 8, 7, 7, 1, 3, 5, 6, 1, 3, 8, 0, 7, 5, 3, 7, 0, 5, 2, 0,\n",
      "        4, 4, 5, 4, 9, 0, 0, 2, 8, 8, 4, 4, 2, 1, 2, 9, 7, 9, 2, 5, 5, 3, 8, 5,\n",
      "        1, 0, 8, 4, 4, 4, 0, 9, 8, 1, 6, 3, 4, 9, 4, 6, 6, 7, 5, 9, 0, 3, 8, 5,\n",
      "        6, 7, 2, 3, 7, 4, 4, 1, 9, 6, 8, 1, 6, 1, 4, 1, 8, 5, 8, 1, 5, 9, 5, 4,\n",
      "        1, 0, 3, 1, 9, 0, 1, 6, 3, 8, 4, 0, 6, 2, 9, 8, 9, 1, 3, 3, 9, 3, 8, 1,\n",
      "        5, 7, 1, 1, 2, 2, 8, 4, 1, 5, 4, 3, 8, 8, 4, 7, 7, 8, 7, 7, 5, 5, 8, 2,\n",
      "        7, 5, 8, 5, 7, 2, 0, 7, 2, 5, 9, 3, 6, 1, 3, 3, 6, 9, 4, 7, 7, 5, 5, 5,\n",
      "        0, 6, 9, 5, 9, 1, 7, 0, 9, 0, 2, 8, 1, 5, 5, 0, 6, 2, 4, 5, 6, 7, 1, 3,\n",
      "        6, 2, 2, 0, 7, 4, 2, 1, 9, 1, 2, 6, 1, 2, 3, 9, 1, 1, 7, 2, 9, 4, 0, 9,\n",
      "        2, 9, 1, 3, 9, 7, 2, 1, 4, 5, 2, 1, 9, 5, 5, 1, 0, 7, 4, 3, 3, 7, 0, 4,\n",
      "        9, 9, 3, 4, 6, 6, 1, 4, 7, 9, 8, 3, 9, 1, 2, 8, 4, 6, 6, 7, 3, 9, 7, 1,\n",
      "        8, 4, 5, 0, 3, 6, 6, 5, 1, 7, 2, 6, 7, 3, 5, 1, 2, 8, 2, 1, 1, 7, 3, 6,\n",
      "        3, 2, 1, 4, 3, 5, 6, 8, 5, 2, 7, 9, 1, 6, 3, 0, 9, 9, 3, 2, 0, 4, 3, 0,\n",
      "        8, 9, 3, 8, 3, 6, 3, 7, 4, 0, 1, 4, 7, 8, 3, 5, 6, 2, 7, 9, 3, 0, 0, 1,\n",
      "        9, 1, 8, 3, 6, 0, 1, 7, 4, 7, 8, 4, 1, 9, 3, 3, 1, 6, 3, 9, 7, 0, 2, 4,\n",
      "        8, 4, 3, 1, 7, 8, 4, 4, 3, 5, 7, 9, 4, 0, 9, 2])\n",
      "torch.Size([1000, 1, 32, 32])\n"
     ]
    }
   ],
   "source": [
    "examples = enumerate(testloader)\n",
    "batch_idx, (example_data, example_targets) = next(examples)\n",
    "print(example_targets)\n",
    "print(example_data.shape)"
   ]
  },
  {
   "cell_type": "code",
   "execution_count": 5,
   "id": "ecd11abe",
   "metadata": {},
   "outputs": [
    {
     "data": {
      "image/png": "[encoded data removed]",
      "text/plain": [
       "<Figure size 640x480 with 6 Axes>"
      ]
     },
     "metadata": {},
     "output_type": "display_data"
    }
   ],
   "source": [
    "import matplotlib.pyplot as plt\n",
    "fig = plt.figure()\n",
    "for i in range(6):\n",
    "  plt.subplot(2,3,i+1)\n",
    "  plt.tight_layout()\n",
    "  plt.imshow(example_data[i][0], cmap='gray', interpolation='none')\n",
    "  plt.title(\"Ground Truth: {}\".format(example_targets[i]))\n",
    "  plt.xticks([])\n",
    "  plt.yticks([])\n",
    "plt.show()"
   ]
  },
  {
   "cell_type": "code",
   "execution_count": 7,
   "id": "9e530510",
   "metadata": {},
   "outputs": [],
   "source": [
    "network = Net().to(DEVICE)\n",
    "optimizer = optim.SGD(network.parameters(), lr = learn_rate, momentum=momentum) # 学习率，动量"
   ]
  },
  {
   "cell_type": "code",
   "execution_count": 8,
   "id": "19201ec4",
   "metadata": {},
   "outputs": [],
   "source": [
    "train_losses = []\n",
    "train_counter = []\n",
    "test_losses = []\n",
    "test_counter = [i*len(trainloader.dataset) for i in range(n_epochs + 1)] #test_losses为横坐标，test_losses为纵坐标\n",
    "test_acc = []"
   ]
  },
  {
   "cell_type": "code",
   "execution_count": 9,
   "id": "576379ac",
   "metadata": {},
   "outputs": [],
   "source": [
    "def train(epoch, device):\n",
    "  network.train() # 调用上一步实例化对象network中的方法（该方法包内已经写好）\n",
    "  for batch_idx, (data, target) in enumerate(trainloader): # 按batch_size为集合对象进行逐个处理\n",
    "    data, target = data.to(device), target.to(device) # data是图片，target是标签，device是为了有GPU情况下使用GPU加速\n",
    "    optimizer.zero_grad() # 开始进行BP之前将梯度设置为零，因为PyTorch会在随后的BP中累积梯度\n",
    "    output = network(data) \n",
    "    loss = F.nll_loss(output, target) # 函数全称是negative log likelihood loss，下面博客有详细解释\n",
    "    # https://blog.csdn.net/weixin_38145317/article/details/103288032\n",
    "    loss.backward() # 根据误差进行BP\n",
    "    optimizer.step()\n",
    "    if batch_idx % log_interval == 0: # 控制输出频率\n",
    "      print('Train Epoch: {} [{}/{} ({:.0f}%)]\\tLoss: {:.6f}'.format(\n",
    "        epoch, batch_idx * len(data), len(trainloader.dataset),\n",
    "        100. * batch_idx / len(trainloader), loss.item()))\n",
    "      train_losses.append(loss.item()) # 记录并储存train loss\n",
    "      train_counter.append(\n",
    "        (batch_idx*64) + ((epoch-1)*len(trainloader.dataset)))"
   ]
  },
  {
   "cell_type": "code",
   "execution_count": 10,
   "id": "b251e172",
   "metadata": {},
   "outputs": [],
   "source": [
    "def test(device):\n",
    "  network.eval()\n",
    "  test_loss = 0\n",
    "  correct = 0\n",
    "  with torch.no_grad():\n",
    "    for data, target in testloader:\n",
    "      data, target = data.to(device), target.to(device)\n",
    "      output = network(data)\n",
    "      test_loss += F.nll_loss(output, target, size_average=False).item()\n",
    "      pred = output.data.max(1, keepdim=True)[1] # 找到概率最大的下标，为预测类别\n",
    "      correct += pred.eq(target.data.view_as(pred)).sum() # x下面都是记录数据用于绘图，不再解释\n",
    "  test_loss /= len(testloader.dataset)\n",
    "  test_losses.append(test_loss)\n",
    "  print('\\nTest set: Avg. loss: {:.4f}, Accuracy: {}/{} ({:.0f}%)\\n'.format(\n",
    "    test_loss, correct, len(testloader.dataset),\n",
    "    100. * correct / len(testloader.dataset)))\n",
    "  test_acc.append(correct / len(testloader.dataset))"
   ]
  },
  {
   "cell_type": "code",
   "execution_count": null,
   "id": "e492e230",
   "metadata": {},
   "outputs": [
    {
     "name": "stderr",
     "output_type": "stream",
     "text": [
      "C:\\Users\\PC\\AppData\\Local\\Temp\\ipykernel_15856\\3532451503.py:33: UserWarning: Implicit dimension choice for log_softmax has been deprecated. Change the call to include dim=X as an argument.\n",
      "  return F.log_softmax(x)\n",
      "C:\\Users\\PC\\anaconda3\\lib\\site-packages\\torch\\nn\\_reduction.py:42: UserWarning: size_average and reduce args will be deprecated, please use reduction='sum' instead.\n",
      "  warnings.warn(warning.format(ret))\n"
     ]
    },
    {
     "name": "stdout",
     "output_type": "stream",
     "text": [
      "\n",
      "Test set: Avg. loss: 2.3016, Accuracy: 958/10000 (10%)\n",
      "\n",
      "Train Epoch: 1 [0/60000 (0%)]\tLoss: 2.306824\n",
      "Train Epoch: 1 [1920/60000 (3%)]\tLoss: 2.304652\n",
      "Train Epoch: 1 [3840/60000 (6%)]\tLoss: 2.297939\n",
      "Train Epoch: 1 [5760/60000 (10%)]\tLoss: 2.286839\n",
      "Train Epoch: 1 [7680/60000 (13%)]\tLoss: 2.283746\n",
      "Train Epoch: 1 [9600/60000 (16%)]\tLoss: 2.264546\n",
      "Train Epoch: 1 [11520/60000 (19%)]\tLoss: 2.243167\n",
      "Train Epoch: 1 [13440/60000 (22%)]\tLoss: 2.229625\n",
      "Train Epoch: 1 [15360/60000 (26%)]\tLoss: 2.010071\n",
      "Train Epoch: 1 [17280/60000 (29%)]\tLoss: 1.752775\n",
      "Train Epoch: 1 [19200/60000 (32%)]\tLoss: 1.362065\n",
      "Train Epoch: 1 [21120/60000 (35%)]\tLoss: 1.142893\n",
      "Train Epoch: 1 [23040/60000 (38%)]\tLoss: 0.746820\n",
      "Train Epoch: 1 [24960/60000 (42%)]\tLoss: 1.066595\n",
      "Train Epoch: 1 [26880/60000 (45%)]\tLoss: 0.800186\n",
      "Train Epoch: 1 [28800/60000 (48%)]\tLoss: 0.620247\n",
      "Train Epoch: 1 [30720/60000 (51%)]\tLoss: 0.485923\n",
      "Train Epoch: 1 [32640/60000 (54%)]\tLoss: 0.579754\n",
      "Train Epoch: 1 [34560/60000 (58%)]\tLoss: 0.407655\n",
      "Train Epoch: 1 [36480/60000 (61%)]\tLoss: 0.459995\n",
      "Train Epoch: 1 [38400/60000 (64%)]\tLoss: 0.369734\n",
      "Train Epoch: 1 [40320/60000 (67%)]\tLoss: 0.428095\n",
      "Train Epoch: 1 [42240/60000 (70%)]\tLoss: 0.328915\n",
      "Train Epoch: 1 [44160/60000 (74%)]\tLoss: 0.629048\n",
      "Train Epoch: 1 [46080/60000 (77%)]\tLoss: 0.371787\n",
      "Train Epoch: 1 [48000/60000 (80%)]\tLoss: 0.274508\n",
      "Train Epoch: 1 [49920/60000 (83%)]\tLoss: 0.456247\n",
      "Train Epoch: 1 [51840/60000 (86%)]\tLoss: 0.558865\n",
      "Train Epoch: 1 [53760/60000 (90%)]\tLoss: 0.460378\n",
      "Train Epoch: 1 [55680/60000 (93%)]\tLoss: 0.466726\n",
      "Train Epoch: 1 [57600/60000 (96%)]\tLoss: 0.326802\n",
      "Train Epoch: 1 [59520/60000 (99%)]\tLoss: 0.478879\n",
      "\n",
      "Test set: Avg. loss: 0.3419, Accuracy: 8761/10000 (88%)\n",
      "\n",
      "Train Epoch: 2 [0/60000 (0%)]\tLoss: 0.479008\n",
      "Train Epoch: 2 [1920/60000 (3%)]\tLoss: 0.185998\n",
      "Train Epoch: 2 [3840/60000 (6%)]\tLoss: 0.197031\n",
      "Train Epoch: 2 [5760/60000 (10%)]\tLoss: 0.280833\n",
      "Train Epoch: 2 [7680/60000 (13%)]\tLoss: 0.197993\n",
      "Train Epoch: 2 [9600/60000 (16%)]\tLoss: 0.180185\n",
      "Train Epoch: 2 [11520/60000 (19%)]\tLoss: 0.451240\n",
      "Train Epoch: 2 [13440/60000 (22%)]\tLoss: 0.299854\n",
      "Train Epoch: 2 [15360/60000 (26%)]\tLoss: 0.376939\n",
      "Train Epoch: 2 [17280/60000 (29%)]\tLoss: 0.391986\n",
      "Train Epoch: 2 [19200/60000 (32%)]\tLoss: 0.485878\n",
      "Train Epoch: 2 [21120/60000 (35%)]\tLoss: 0.169895\n",
      "Train Epoch: 2 [23040/60000 (38%)]\tLoss: 0.428876\n",
      "Train Epoch: 2 [24960/60000 (42%)]\tLoss: 0.555237\n",
      "Train Epoch: 2 [26880/60000 (45%)]\tLoss: 0.312309\n",
      "Train Epoch: 2 [28800/60000 (48%)]\tLoss: 0.466854\n",
      "Train Epoch: 2 [30720/60000 (51%)]\tLoss: 0.422551\n",
      "Train Epoch: 2 [32640/60000 (54%)]\tLoss: 0.247391\n",
      "Train Epoch: 2 [34560/60000 (58%)]\tLoss: 0.252756\n",
      "Train Epoch: 2 [36480/60000 (61%)]\tLoss: 0.194285\n",
      "Train Epoch: 2 [38400/60000 (64%)]\tLoss: 0.277191\n",
      "Train Epoch: 2 [40320/60000 (67%)]\tLoss: 0.363502\n",
      "Train Epoch: 2 [42240/60000 (70%)]\tLoss: 0.148665\n",
      "Train Epoch: 2 [44160/60000 (74%)]\tLoss: 0.382473\n",
      "Train Epoch: 2 [46080/60000 (77%)]\tLoss: 0.357176\n",
      "Train Epoch: 2 [48000/60000 (80%)]\tLoss: 0.327978\n",
      "Train Epoch: 2 [49920/60000 (83%)]\tLoss: 0.189206\n",
      "Train Epoch: 2 [51840/60000 (86%)]\tLoss: 0.395809\n",
      "Train Epoch: 2 [53760/60000 (90%)]\tLoss: 0.414250\n",
      "Train Epoch: 2 [55680/60000 (93%)]\tLoss: 0.231622\n",
      "Train Epoch: 2 [57600/60000 (96%)]\tLoss: 0.396490\n",
      "Train Epoch: 2 [59520/60000 (99%)]\tLoss: 0.293316\n",
      "\n",
      "Test set: Avg. loss: 0.3129, Accuracy: 8830/10000 (88%)\n",
      "\n",
      "Train Epoch: 3 [0/60000 (0%)]\tLoss: 0.267551\n",
      "Train Epoch: 3 [1920/60000 (3%)]\tLoss: 0.208899\n",
      "Train Epoch: 3 [3840/60000 (6%)]\tLoss: 0.267696\n",
      "Train Epoch: 3 [5760/60000 (10%)]\tLoss: 0.314115\n",
      "Train Epoch: 3 [7680/60000 (13%)]\tLoss: 0.519571\n",
      "Train Epoch: 3 [9600/60000 (16%)]\tLoss: 0.348849\n",
      "Train Epoch: 3 [11520/60000 (19%)]\tLoss: 0.275742\n",
      "Train Epoch: 3 [13440/60000 (22%)]\tLoss: 0.082593\n",
      "Train Epoch: 3 [15360/60000 (26%)]\tLoss: 0.245673\n",
      "Train Epoch: 3 [17280/60000 (29%)]\tLoss: 0.105624\n",
      "Train Epoch: 3 [19200/60000 (32%)]\tLoss: 0.065383\n",
      "Train Epoch: 3 [21120/60000 (35%)]\tLoss: 0.018349\n",
      "Train Epoch: 3 [23040/60000 (38%)]\tLoss: 0.147771\n",
      "Train Epoch: 3 [24960/60000 (42%)]\tLoss: 0.054692\n",
      "Train Epoch: 3 [26880/60000 (45%)]\tLoss: 0.008017\n",
      "Train Epoch: 3 [28800/60000 (48%)]\tLoss: 0.020166\n",
      "Train Epoch: 3 [30720/60000 (51%)]\tLoss: 0.027488\n",
      "Train Epoch: 3 [32640/60000 (54%)]\tLoss: 0.153755\n",
      "Train Epoch: 3 [34560/60000 (58%)]\tLoss: 0.015300\n",
      "Train Epoch: 3 [36480/60000 (61%)]\tLoss: 0.082223\n",
      "Train Epoch: 3 [38400/60000 (64%)]\tLoss: 0.081718\n",
      "Train Epoch: 3 [40320/60000 (67%)]\tLoss: 0.018333\n",
      "Train Epoch: 3 [42240/60000 (70%)]\tLoss: 0.125861\n",
      "Train Epoch: 3 [44160/60000 (74%)]\tLoss: 0.108811\n",
      "Train Epoch: 3 [46080/60000 (77%)]\tLoss: 0.102645\n",
      "Train Epoch: 3 [48000/60000 (80%)]\tLoss: 0.143763\n",
      "Train Epoch: 3 [49920/60000 (83%)]\tLoss: 0.130787\n",
      "Train Epoch: 3 [51840/60000 (86%)]\tLoss: 0.162112\n",
      "Train Epoch: 3 [53760/60000 (90%)]\tLoss: 0.051153\n",
      "Train Epoch: 3 [55680/60000 (93%)]\tLoss: 0.104511\n",
      "Train Epoch: 3 [57600/60000 (96%)]\tLoss: 0.175069\n",
      "Train Epoch: 3 [59520/60000 (99%)]\tLoss: 0.061946\n",
      "\n",
      "Test set: Avg. loss: 0.0730, Accuracy: 9774/10000 (98%)\n",
      "\n",
      "Train Epoch: 4 [0/60000 (0%)]\tLoss: 0.137470\n",
      "Train Epoch: 4 [1920/60000 (3%)]\tLoss: 0.034403\n",
      "Train Epoch: 4 [3840/60000 (6%)]\tLoss: 0.022184\n",
      "Train Epoch: 4 [5760/60000 (10%)]\tLoss: 0.026401\n",
      "Train Epoch: 4 [7680/60000 (13%)]\tLoss: 0.010861\n",
      "Train Epoch: 4 [9600/60000 (16%)]\tLoss: 0.057023\n",
      "Train Epoch: 4 [11520/60000 (19%)]\tLoss: 0.004669\n",
      "Train Epoch: 4 [13440/60000 (22%)]\tLoss: 0.027505\n",
      "Train Epoch: 4 [15360/60000 (26%)]\tLoss: 0.049488\n",
      "Train Epoch: 4 [17280/60000 (29%)]\tLoss: 0.041608\n",
      "Train Epoch: 4 [19200/60000 (32%)]\tLoss: 0.231591\n",
      "Train Epoch: 4 [21120/60000 (35%)]\tLoss: 0.031110\n",
      "Train Epoch: 4 [23040/60000 (38%)]\tLoss: 0.014592\n",
      "Train Epoch: 4 [24960/60000 (42%)]\tLoss: 0.046636\n",
      "Train Epoch: 4 [26880/60000 (45%)]\tLoss: 0.186698\n",
      "Train Epoch: 4 [28800/60000 (48%)]\tLoss: 0.170913\n",
      "Train Epoch: 4 [30720/60000 (51%)]\tLoss: 0.028822\n",
      "Train Epoch: 4 [32640/60000 (54%)]\tLoss: 0.037230\n",
      "Train Epoch: 4 [34560/60000 (58%)]\tLoss: 0.036283\n",
      "Train Epoch: 4 [36480/60000 (61%)]\tLoss: 0.016498\n",
      "Train Epoch: 4 [38400/60000 (64%)]\tLoss: 0.018460\n",
      "Train Epoch: 4 [40320/60000 (67%)]\tLoss: 0.124007\n",
      "Train Epoch: 4 [42240/60000 (70%)]\tLoss: 0.003606\n",
      "Train Epoch: 4 [44160/60000 (74%)]\tLoss: 0.034667\n",
      "Train Epoch: 4 [46080/60000 (77%)]\tLoss: 0.005211\n",
      "Train Epoch: 4 [48000/60000 (80%)]\tLoss: 0.023124\n",
      "Train Epoch: 4 [49920/60000 (83%)]\tLoss: 0.081644\n",
      "Train Epoch: 4 [51840/60000 (86%)]\tLoss: 0.203163\n",
      "Train Epoch: 4 [53760/60000 (90%)]\tLoss: 0.068068\n",
      "Train Epoch: 4 [55680/60000 (93%)]\tLoss: 0.026706\n",
      "Train Epoch: 4 [57600/60000 (96%)]\tLoss: 0.109271\n",
      "Train Epoch: 4 [59520/60000 (99%)]\tLoss: 0.066831\n"
     ]
    }
   ],
   "source": [
    "test(DEVICE)\n",
    "for epoch in range(1, n_epochs + 1):\n",
    "  train(epoch, DEVICE)\n",
    "  test(DEVICE)\n",
    "import matplotlib.pyplot as plt\n",
    "fig = plt.figure()\n",
    "plt.plot(train_counter, train_losses, color='blue') # train_losses变化曲线\n",
    "plt.plot(test_counter, test_acc, color='yellow') # test集accuracy变化曲线\n",
    "plt.scatter(test_counter, test_losses, color='red') # test集loss散点图\n",
    "plt.legend(['Train Loss', 'Test Loss'], loc='upper right')\n",
    "plt.xlabel('number of training examples seen')\n",
    "plt.ylabel('negative log likelihood loss and test accuarcy')\n",
    "plt.show()"
   ]
  },
  {
   "cell_type": "code",
   "execution_count": null,
   "id": "453af020",
   "metadata": {},
   "outputs": [],
   "source": [
    "examples = enumerate(testloader)\n",
    "batch_idx, (example_data, example_targets) = next(examples)\n",
    "with torch.no_grad():\n",
    "  example_data, example_targets = example_data.to(DEVICE), example_targets.to(DEVICE)\n",
    "  output = network(example_data)\n",
    "fig = plt.figure()\n",
    "for i in range(6):\n",
    "  plt.subplot(2,3,i+1)\n",
    "  plt.tight_layout()\n",
    "  plt.imshow(example_data[i][0].cpu().clone().numpy(), cmap='gray', interpolation='none')\n",
    "  plt.title(\"Prediction: {}\".format(\n",
    "    output.data.max(1, keepdim=True)[1][i].item()))\n",
    "  plt.xticks([])\n",
    "  plt.yticks([])\n",
    "plt.show()"
   ]
  }
 ],
 "metadata": {
  "kernelspec": {
   "display_name": "Python 3 (ipykernel)",
   "language": "python",
   "name": "python3"
  },
  "language_info": {
   "codemirror_mode": {
    "name": "ipython",
    "version": 3
   },
   "file_extension": ".py",
   "mimetype": "text/x-python",
   "name": "python",
   "nbconvert_exporter": "python",
   "pygments_lexer": "ipython3",
   "version": "3.9.13"
  }
 },
 "nbformat": 4,
 "nbformat_minor": 5
}

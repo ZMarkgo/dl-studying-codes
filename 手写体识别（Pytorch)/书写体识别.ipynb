{
 "cells": [
  {
   "cell_type": "code",
   "execution_count": 1,
   "id": "328859f2",
   "metadata": {},
   "outputs": [],
   "source": [
    "import torch\n",
    "import torchvision\n",
    "import torchvision.transforms as transforms"
   ]
  },
  {
   "cell_type": "code",
   "execution_count": 2,
   "id": "71653dea",
   "metadata": {},
   "outputs": [],
   "source": [
    "n_epochs = 5 # 模型训练5轮\n",
    "log_interval = 30 #控制打印频率的，设n = 30*batch_size，即n张图后打印一次进度\n",
    "DEVICE = torch.device(\"cuda\" if torch.cuda.is_available() else \"cpu\") # 根据设备是否支持GPU来选择硬件 \n",
    "size = 32 # 对输入图片进行处理，拉伸为32*32的图片，这是为了复刻手写数字识别的神经网络，其输入为32*32的灰度图像\n",
    "learn_rate = 0.03 # 学习率\n",
    "momentum = 0.1  # 动量"
   ]
  },
  {
   "cell_type": "code",
   "execution_count": 3,
   "id": "b7baccec",
   "metadata": {},
   "outputs": [
    {
     "name": "stderr",
     "output_type": "stream",
     "text": [
      "'wget' �����ڲ����ⲿ���Ҳ���ǿ����еĳ���\n",
      "���������ļ���\n",
      "tar: Error opening archive: Failed to open 'MNIST.tar.gz'\n"
     ]
    }
   ],
   "source": [
    "!wget www.di.ens.fr/~lelarge/MNIST.tar.gz\n",
    "!tar -zxvf MNIST.tar.gz\n",
    "from torchvision.datasets import MNIST\n",
    "transform = transforms.Compose(\n",
    "    [ transforms.Resize(size), transforms.ToTensor(),\n",
    "     transforms.Normalize((0.5), (0.5))]) # 正则化处理，相当于z-score\n",
    "trainset = MNIST(root = './', train=True, download=True, transform=transform)\n",
    "trainloader = torch.utils.data.DataLoader(trainset, batch_size=64, shuffle=True, num_workers=2)\n",
    "testset = MNIST(root = './', train=False, download=True, transform=transform)\n",
    "testloader = torch.utils.data.DataLoader(testset, batch_size=1000, shuffle=True, num_workers=2)\n",
    "\n",
    "# classes = ('1', '2', '3', '4', '5', '6', '7', '8', '9', '0')"
   ]
  },
  {
   "cell_type": "code",
   "execution_count": 4,
   "id": "9e30b816",
   "metadata": {},
   "outputs": [
    {
     "name": "stdout",
     "output_type": "stream",
     "text": [
      "tensor([5, 6, 3, 5, 3, 8, 6, 8, 4, 3, 9, 1, 4, 9, 9, 4, 7, 3, 8, 9, 6, 3, 8, 0,\n",
      "        2, 9, 4, 1, 4, 8, 8, 4, 7, 7, 5, 0, 4, 1, 8, 3, 7, 6, 4, 6, 3, 9, 9, 0,\n",
      "        2, 1, 9, 0, 2, 6, 7, 6, 3, 9, 7, 6, 3, 0, 1, 2, 8, 5, 1, 3, 0, 8, 4, 4,\n",
      "        0, 4, 6, 5, 1, 0, 7, 5, 6, 8, 1, 4, 0, 2, 7, 7, 2, 6, 3, 9, 5, 2, 5, 5,\n",
      "        0, 7, 3, 7, 8, 5, 0, 3, 1, 1, 9, 0, 9, 1, 6, 3, 5, 9, 1, 0, 7, 8, 8, 5,\n",
      "        3, 7, 8, 7, 3, 9, 4, 8, 5, 8, 4, 3, 1, 7, 4, 1, 8, 1, 3, 2, 3, 2, 0, 7,\n",
      "        6, 3, 4, 0, 3, 8, 6, 3, 9, 0, 0, 1, 9, 1, 4, 7, 9, 5, 4, 2, 1, 6, 6, 2,\n",
      "        8, 8, 2, 9, 5, 2, 8, 3, 8, 5, 8, 8, 5, 9, 3, 5, 2, 3, 2, 7, 3, 4, 0, 6,\n",
      "        8, 5, 0, 9, 7, 8, 5, 0, 4, 8, 6, 1, 3, 2, 2, 0, 6, 6, 1, 9, 4, 1, 1, 4,\n",
      "        2, 4, 1, 5, 8, 7, 9, 2, 2, 1, 1, 3, 5, 0, 0, 4, 6, 5, 2, 9, 9, 4, 8, 5,\n",
      "        9, 9, 9, 0, 2, 1, 5, 1, 4, 5, 6, 6, 0, 5, 8, 7, 8, 1, 6, 9, 5, 4, 2, 2,\n",
      "        4, 3, 3, 6, 4, 4, 4, 0, 3, 1, 5, 5, 8, 0, 3, 9, 2, 8, 4, 4, 4, 7, 7, 8,\n",
      "        0, 1, 8, 1, 8, 1, 8, 9, 7, 4, 7, 5, 0, 1, 3, 3, 3, 7, 8, 7, 8, 6, 5, 3,\n",
      "        7, 7, 3, 4, 0, 2, 1, 2, 3, 3, 3, 1, 3, 6, 6, 2, 6, 0, 1, 8, 2, 2, 3, 1,\n",
      "        9, 0, 1, 1, 3, 5, 3, 7, 7, 4, 9, 6, 9, 5, 8, 4, 4, 9, 4, 5, 0, 2, 5, 1,\n",
      "        4, 0, 2, 1, 9, 5, 9, 8, 0, 5, 7, 0, 4, 7, 1, 7, 3, 2, 1, 1, 6, 6, 9, 4,\n",
      "        5, 9, 2, 6, 9, 3, 1, 0, 1, 8, 5, 8, 3, 0, 3, 5, 8, 0, 0, 6, 8, 7, 9, 8,\n",
      "        3, 4, 3, 5, 7, 3, 1, 7, 2, 5, 3, 3, 1, 1, 8, 1, 2, 3, 6, 1, 2, 3, 1, 5,\n",
      "        6, 5, 7, 9, 3, 5, 0, 3, 2, 7, 6, 6, 2, 2, 6, 8, 6, 3, 0, 1, 1, 9, 4, 7,\n",
      "        1, 4, 7, 3, 9, 0, 2, 6, 3, 4, 6, 7, 6, 4, 8, 6, 9, 6, 4, 5, 4, 8, 0, 6,\n",
      "        3, 3, 8, 1, 5, 1, 4, 3, 0, 1, 9, 6, 9, 4, 4, 0, 1, 4, 2, 9, 4, 9, 3, 3,\n",
      "        0, 5, 7, 7, 7, 1, 5, 0, 4, 3, 7, 0, 9, 7, 0, 9, 5, 1, 3, 5, 7, 3, 2, 2,\n",
      "        7, 6, 8, 9, 0, 2, 8, 1, 6, 9, 6, 6, 7, 8, 2, 0, 7, 2, 6, 9, 5, 3, 1, 8,\n",
      "        6, 8, 6, 2, 3, 7, 0, 5, 3, 0, 8, 5, 4, 8, 6, 2, 8, 3, 3, 8, 6, 0, 2, 0,\n",
      "        9, 3, 0, 1, 7, 3, 6, 3, 0, 2, 4, 8, 5, 1, 2, 0, 1, 7, 1, 2, 6, 1, 9, 0,\n",
      "        1, 6, 6, 9, 9, 1, 4, 2, 3, 2, 3, 8, 3, 1, 0, 3, 2, 5, 5, 9, 9, 7, 5, 1,\n",
      "        7, 4, 2, 2, 3, 4, 1, 9, 3, 0, 7, 5, 6, 5, 1, 7, 1, 5, 2, 3, 6, 2, 8, 1,\n",
      "        2, 6, 6, 2, 5, 8, 7, 8, 4, 6, 4, 9, 7, 4, 0, 5, 3, 4, 1, 2, 5, 5, 0, 3,\n",
      "        6, 4, 5, 5, 7, 0, 4, 1, 2, 0, 8, 2, 0, 7, 1, 0, 8, 5, 4, 6, 1, 8, 0, 8,\n",
      "        5, 9, 9, 8, 7, 3, 4, 3, 7, 0, 4, 6, 1, 0, 9, 3, 6, 6, 6, 6, 5, 9, 3, 9,\n",
      "        2, 5, 0, 1, 1, 9, 8, 6, 7, 0, 2, 0, 5, 0, 7, 4, 1, 4, 3, 2, 2, 0, 0, 8,\n",
      "        9, 9, 5, 0, 1, 2, 5, 8, 8, 7, 2, 3, 6, 4, 2, 8, 3, 6, 6, 8, 2, 7, 4, 8,\n",
      "        9, 7, 5, 6, 0, 1, 8, 2, 6, 2, 6, 0, 3, 9, 5, 6, 9, 3, 2, 9, 2, 6, 3, 4,\n",
      "        4, 6, 0, 9, 3, 6, 0, 5, 1, 2, 9, 1, 5, 3, 4, 5, 1, 2, 5, 4, 2, 3, 6, 7,\n",
      "        1, 3, 1, 1, 6, 2, 7, 1, 3, 8, 3, 3, 9, 6, 0, 0, 7, 1, 9, 3, 7, 3, 3, 6,\n",
      "        4, 0, 8, 1, 5, 1, 9, 2, 7, 5, 0, 1, 9, 0, 0, 8, 8, 0, 5, 2, 5, 8, 1, 9,\n",
      "        3, 1, 9, 2, 1, 2, 5, 1, 8, 3, 0, 8, 4, 8, 4, 7, 1, 6, 5, 0, 0, 4, 1, 4,\n",
      "        7, 5, 2, 0, 0, 6, 0, 2, 5, 6, 8, 3, 9, 0, 3, 5, 4, 1, 4, 1, 4, 5, 8, 1,\n",
      "        5, 3, 8, 3, 6, 4, 9, 3, 7, 5, 0, 0, 6, 1, 6, 4, 0, 0, 1, 0, 6, 3, 9, 5,\n",
      "        2, 9, 9, 9, 5, 6, 4, 8, 3, 3, 6, 1, 1, 1, 7, 1, 8, 9, 8, 7, 3, 7, 0, 5,\n",
      "        8, 0, 1, 5, 7, 5, 6, 2, 9, 1, 4, 8, 1, 5, 1, 9, 2, 5, 0, 0, 5, 4, 9, 1,\n",
      "        3, 2, 7, 4, 7, 0, 3, 0, 7, 5, 3, 2, 4, 8, 3, 4])\n",
      "torch.Size([1000, 1, 32, 32])\n"
     ]
    }
   ],
   "source": [
    "examples = enumerate(testloader)\n",
    "batch_idx, (example_data, example_targets) = next(examples)\n",
    "print(example_targets)\n",
    "print(example_data.shape)"
   ]
  },
  {
   "cell_type": "code",
   "execution_count": 5,
   "id": "ecd11abe",
   "metadata": {},
   "outputs": [
    {
     "ename": "",
     "evalue": "",
     "output_type": "error",
     "traceback": [
      "\u001b[1;31m在当前单元格或上一个单元格中执行代码时 Kernel 崩溃。\n",
      "\u001b[1;31m请查看单元格中的代码，以确定故障的可能原因。\n",
      "\u001b[1;31m单击<a href='https://aka.ms/vscodeJupyterKernelCrash'>此处</a>了解详细信息。\n",
      "\u001b[1;31m有关更多详细信息，请查看 Jupyter <a href='command:jupyter.viewOutput'>log</a>。"
     ]
    }
   ],
   "source": [
    "import matplotlib.pyplot as plt\n",
    "fig = plt.figure()\n",
    "for i in range(6):\n",
    "  plt.subplot(2,3,i+1)\n",
    "  plt.tight_layout()\n",
    "  plt.imshow(example_data[i][0], cmap='gray', interpolation='none')\n",
    "  plt.title(\"Ground Truth: {}\".format(example_targets[i]))\n",
    "  plt.xticks([])\n",
    "  plt.yticks([])\n",
    "plt.show()"
   ]
  },
  {
   "cell_type": "code",
   "execution_count": null,
   "id": "9e530510",
   "metadata": {},
   "outputs": [],
   "source": [
    "network = Net().to(DEVICE)\n",
    "optimizer = optim.SGD(network.parameters(), lr = learn_rate, momentum=momentum) # 学习率，动量"
   ]
  },
  {
   "cell_type": "code",
   "execution_count": null,
   "id": "19201ec4",
   "metadata": {},
   "outputs": [],
   "source": [
    "train_losses = []\n",
    "train_counter = []\n",
    "test_losses = []\n",
    "test_counter = [i*len(trainloader.dataset) for i in range(n_epochs + 1)] #test_losses为横坐标，test_losses为纵坐标\n",
    "test_acc = []"
   ]
  },
  {
   "cell_type": "code",
   "execution_count": null,
   "id": "576379ac",
   "metadata": {},
   "outputs": [],
   "source": [
    "def train(epoch, device):\n",
    "  network.train() # 调用上一步实例化对象network中的方法（该方法包内已经写好）\n",
    "  for batch_idx, (data, target) in enumerate(trainloader): # 按batch_size为集合对象进行逐个处理\n",
    "    data, target = data.to(device), target.to(device) # data是图片，target是标签，device是为了有GPU情况下使用GPU加速\n",
    "    optimizer.zero_grad() # 开始进行BP之前将梯度设置为零，因为PyTorch会在随后的BP中累积梯度\n",
    "    output = network(data) \n",
    "    loss = F.nll_loss(output, target) # 函数全称是negative log likelihood loss，下面博客有详细解释\n",
    "    # https://blog.csdn.net/weixin_38145317/article/details/103288032\n",
    "    loss.backward() # 根据误差进行BP\n",
    "    optimizer.step()\n",
    "    if batch_idx % log_interval == 0: # 控制输出频率\n",
    "      print('Train Epoch: {} [{}/{} ({:.0f}%)]\\tLoss: {:.6f}'.format(\n",
    "        epoch, batch_idx * len(data), len(trainloader.dataset),\n",
    "        100. * batch_idx / len(trainloader), loss.item()))\n",
    "      train_losses.append(loss.item()) # 记录并储存train loss\n",
    "      train_counter.append(\n",
    "        (batch_idx*64) + ((epoch-1)*len(trainloader.dataset)))"
   ]
  },
  {
   "cell_type": "code",
   "execution_count": null,
   "id": "b251e172",
   "metadata": {},
   "outputs": [],
   "source": [
    "def test(device):\n",
    "  network.eval()\n",
    "  test_loss = 0\n",
    "  correct = 0\n",
    "  with torch.no_grad():\n",
    "    for data, target in testloader:\n",
    "      data, target = data.to(device), target.to(device)\n",
    "      output = network(data)\n",
    "      test_loss += F.nll_loss(output, target, size_average=False).item()\n",
    "      pred = output.data.max(1, keepdim=True)[1] # 找到概率最大的下标，为预测类别\n",
    "      correct += pred.eq(target.data.view_as(pred)).sum() # x下面都是记录数据用于绘图，不再解释\n",
    "  test_loss /= len(testloader.dataset)\n",
    "  test_losses.append(test_loss)\n",
    "  print('\\nTest set: Avg. loss: {:.4f}, Accuracy: {}/{} ({:.0f}%)\\n'.format(\n",
    "    test_loss, correct, len(testloader.dataset),\n",
    "    100. * correct / len(testloader.dataset)))\n",
    "  test_acc.append(correct / len(testloader.dataset))"
   ]
  },
  {
   "cell_type": "code",
   "execution_count": null,
   "id": "e492e230",
   "metadata": {},
   "outputs": [],
   "source": [
    "test(DEVICE)\n",
    "for epoch in range(1, n_epochs + 1):\n",
    "  train(epoch, DEVICE)\n",
    "  test(DEVICE)\n",
    "import matplotlib.pyplot as plt\n",
    "fig = plt.figure()\n",
    "plt.plot(train_counter, train_losses, color='blue') # train_losses变化曲线\n",
    "plt.plot(test_counter, test_acc, color='yellow') # test集accuracy变化曲线\n",
    "plt.scatter(test_counter, test_losses, color='red') # test集loss散点图\n",
    "plt.legend(['Train Loss', 'Test Loss'], loc='upper right')\n",
    "plt.xlabel('number of training examples seen')\n",
    "plt.ylabel('negative log likelihood loss and test accuarcy')\n",
    "plt.show()"
   ]
  },
  {
   "cell_type": "code",
   "execution_count": null,
   "id": "453af020",
   "metadata": {},
   "outputs": [],
   "source": [
    "examples = enumerate(testloader)\n",
    "batch_idx, (example_data, example_targets) = next(examples)\n",
    "with torch.no_grad():\n",
    "  example_data, example_targets = example_data.to(DEVICE), example_targets.to(DEVICE)\n",
    "  output = network(example_data)\n",
    "fig = plt.figure()\n",
    "for i in range(6):\n",
    "  plt.subplot(2,3,i+1)\n",
    "  plt.tight_layout()\n",
    "  plt.imshow(example_data[i][0].cpu().clone().numpy(), cmap='gray', interpolation='none')\n",
    "  plt.title(\"Prediction: {}\".format(\n",
    "    output.data.max(1, keepdim=True)[1][i].item()))\n",
    "  plt.xticks([])\n",
    "  plt.yticks([])\n",
    "plt.show()"
   ]
  }
 ],
 "metadata": {
  "kernelspec": {
   "display_name": "Python 3 (ipykernel)",
   "language": "python",
   "name": "python3"
  },
  "language_info": {
   "codemirror_mode": {
    "name": "ipython",
    "version": 3
   },
   "file_extension": ".py",
   "mimetype": "text/x-python",
   "name": "python",
   "nbconvert_exporter": "python",
   "pygments_lexer": "ipython3",
   "version": "3.11.5"
  }
 },
 "nbformat": 4,
 "nbformat_minor": 5
}
